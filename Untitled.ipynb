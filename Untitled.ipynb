{
 "cells": [
  {
   "cell_type": "markdown",
   "id": "3da7e178-bb33-42cd-82d6-de5ae674e6f6",
   "metadata": {},
   "source": [
    "asfkjasjf\n",
    "asdfmaskldf"
   ]
  },
  {
   "cell_type": "raw",
   "id": "a546a706-4678-4021-80ea-e6496bd29095",
   "metadata": {},
   "source": [
    "sdfdasfnaksf\n"
   ]
  },
  {
   "cell_type": "code",
   "execution_count": null,
   "id": "1ee6fa53-91dc-4994-8bb9-0e3039d9ef13",
   "metadata": {},
   "outputs": [],
   "source": []
  },
  {
   "cell_type": "code",
   "execution_count": null,
   "id": "34d3f303-a2f8-4d65-b9d7-9d705c20330d",
   "metadata": {},
   "outputs": [],
   "source": []
  },
  {
   "cell_type": "code",
   "execution_count": null,
   "id": "f54b0be0-da50-481c-bf87-198aa4a370f0",
   "metadata": {},
   "outputs": [],
   "source": []
  },
  {
   "cell_type": "raw",
   "id": "fcb597b4-82ec-4c4d-b06c-bc10f344151b",
   "metadata": {},
   "source": []
  },
  {
   "cell_type": "code",
   "execution_count": null,
   "id": "5bbda045-93e5-40c6-9a00-6e62136d7a6f",
   "metadata": {},
   "outputs": [],
   "source": []
  },
  {
   "cell_type": "code",
   "execution_count": null,
   "id": "79e19afb-874b-4d19-9c5a-bbeb87e2aa8f",
   "metadata": {},
   "outputs": [],
   "source": []
  }
 ],
 "metadata": {
  "kernelspec": {
   "display_name": "Python 3 (ipykernel)",
   "language": "python",
   "name": "python3"
  },
  "language_info": {
   "codemirror_mode": {
    "name": "ipython",
    "version": 3
   },
   "file_extension": ".py",
   "mimetype": "text/x-python",
   "name": "python",
   "nbconvert_exporter": "python",
   "pygments_lexer": "ipython3",
   "version": "3.9.7"
  }
 },
 "nbformat": 4,
 "nbformat_minor": 5
}
